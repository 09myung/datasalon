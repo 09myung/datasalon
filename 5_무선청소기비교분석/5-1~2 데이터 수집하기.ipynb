{
 "cells": [
  {
   "cell_type": "markdown",
   "metadata": {},
   "source": [
    "# 5.1.\t데이터 수집하기 1 – 한 페이지 크롤링 하기"
   ]
  },
  {
   "cell_type": "markdown",
   "metadata": {},
   "source": [
    "### 예제 5-1 selenium으로 다나와 검색 결과 URL 접속하기"
   ]
  },
  {
   "cell_type": "code",
   "execution_count": 1,
   "metadata": {},
   "outputs": [],
   "source": [
    "from selenium import webdriver\n",
    "\n",
    "browser = webdriver.Chrome('c:/playwithdata/chromedriver.exe')\n",
    "url = \"http://search.danawa.com/dsearch.php?query=무선청소기&tab=main\"\n",
    "browser.get(url)"
   ]
  },
  {
   "cell_type": "markdown",
   "metadata": {},
   "source": [
    "### 예제 5-2 웹 페이지 HTML 정보 가져오기"
   ]
  },
  {
   "cell_type": "code",
   "execution_count": 3,
   "metadata": {},
   "outputs": [],
   "source": [
    "from bs4 import BeautifulSoup\n",
    "\n",
    "html = browser.page_source\n",
    "soup = BeautifulSoup(html, 'html.parser')"
   ]
  },
  {
   "cell_type": "markdown",
   "metadata": {},
   "source": [
    "### 예제 5-3 page1에 대한 무선청소기 정보 가져오기1"
   ]
  },
  {
   "cell_type": "code",
   "execution_count": 4,
   "metadata": {},
   "outputs": [
    {
     "data": {
      "text/plain": [
       "37"
      ]
     },
     "execution_count": 4,
     "metadata": {},
     "output_type": "execute_result"
    }
   ],
   "source": [
    "prod_items = soup.select('li.prod_item')\n",
    "len(prod_items)"
   ]
  },
  {
   "cell_type": "markdown",
   "metadata": {},
   "source": [
    "### 예제 5-4 page1에 대한 무선청소기 정보 가져오기2"
   ]
  },
  {
   "cell_type": "code",
   "execution_count": 5,
   "metadata": {},
   "outputs": [
    {
     "data": {
      "text/plain": [
       "37"
      ]
     },
     "execution_count": 5,
     "metadata": {},
     "output_type": "execute_result"
    }
   ],
   "source": [
    "prod_items = soup.select('ul.product_list > li.prod_item')\n",
    "len(prod_items)"
   ]
  },
  {
   "cell_type": "markdown",
   "metadata": {},
   "source": [
    "### 예제 5-5 page1에 대한 무선청소기 정보 가져오기3"
   ]
  },
  {
   "cell_type": "code",
   "execution_count": 8,
   "metadata": {},
   "outputs": [
    {
     "data": {
      "text/plain": [
       "30"
      ]
     },
     "execution_count": 8,
     "metadata": {},
     "output_type": "execute_result"
    }
   ],
   "source": [
    "prod_items = soup.select('div#productListArea > div.main_prodlist > ul.product_list > li.prod_item')\n",
    "len(prod_items)"
   ]
  },
  {
   "cell_type": "markdown",
   "metadata": {},
   "source": [
    "### 예제 5-6 상품명 정보 가져오기"
   ]
  },
  {
   "cell_type": "code",
   "execution_count": 9,
   "metadata": {},
   "outputs": [
    {
     "name": "stdout",
     "output_type": "stream",
     "text": [
      "샤오미 드리미 V9\n"
     ]
    }
   ],
   "source": [
    "title = prod_items[0].select('p.prod_name > a')[0].text.strip()\n",
    "print(title)"
   ]
  },
  {
   "cell_type": "markdown",
   "metadata": {},
   "source": [
    "### 예제 5-7 스펙 리스트 정보 가져오기"
   ]
  },
  {
   "cell_type": "code",
   "execution_count": 10,
   "metadata": {},
   "outputs": [
    {
     "name": "stdout",
     "output_type": "stream",
     "text": [
      "핸디/스틱청소기 / 핸디+스틱형 / 무선형 / 전압: 25.2V / 헤파필터 / 싸이클론 / 5단계여과 / 흡입력: 120AW / 충전시간: 3시간30분 / 사용시간: 60분 / 브러쉬: 바닥, 솔형, 틈새, 침구, 연장관 / 거치대 / 무게: 1.5kg / 색상:화이트 / 소비전력: 400W\n"
     ]
    }
   ],
   "source": [
    "spec_list = prod_items[0].select('div.spec_list')[0].text.strip()\n",
    "print(spec_list)"
   ]
  },
  {
   "cell_type": "markdown",
   "metadata": {},
   "source": [
    "### 예제 5-8 가격 정보 가져오기"
   ]
  },
  {
   "cell_type": "code",
   "execution_count": 11,
   "metadata": {},
   "outputs": [
    {
     "name": "stdout",
     "output_type": "stream",
     "text": [
      "137700\n"
     ]
    }
   ],
   "source": [
    "price = prod_items[0].select('li.rank_one > p.price_sect > a > strong')[0].text.strip().replace(\",\",\"\")\n",
    "print(price)"
   ]
  },
  {
   "cell_type": "markdown",
   "metadata": {},
   "source": [
    "### 예제 5-9 반복문으로 검색결과 1페이지 상품 정보 추출하기"
   ]
  },
  {
   "cell_type": "code",
   "execution_count": 24,
   "metadata": {},
   "outputs": [
    {
     "name": "stdout",
     "output_type": "stream",
     "text": [
      "30\n",
      "[['비엔필레 H-12', '핸디/스틱청소기 / 핸디형 / 유선형 / 헤파필터 / 브러쉬: 바닥, 솔형, 틈새, 연장관 / 셀프스탠딩 / 무게: 1.5kg / 색상:레드 / 소비전력: 400W / 크기(가로x세로x깊이): 280x380x200mm', 30010], ['좋은생활지웰 GWELL-502', '핸디/스틱청소기 / 핸디+스틱형 / 무선형 / 전압: 22.2V / 충전시간: 3~4시간 / 사용시간: 40분 / 배터리: 리튬이온 / 브러쉬: 바닥, 솔형, 틈새 / LED라이트 / 배터리잔량표시 / 색상:로즈골드 / 크기(가로x세로x깊이): 290x120x200mm', 78900], ['신일산업 SDC-B5000W', '물걸레청소기 / 스틱형 / 물걸레전용 / 회전식 / 무선형 / 전압: 16.8V / 충전시간: 3시간 / 사용시간: 40분 / 배터리: 리튬이온 / 물분사 / 셀프스탠딩 / 각도조절 / 무게: 3.9kg / 색상:레드 / 패드: 극세사(벨크로형) / 크기(가로x세로x깊이): 420x1150x190mm', 114750], ['이노템 아이언맨 IM-900', '물걸레청소기 / 스틱형 / 물걸레전용 / 왕복식 / 무선형 / 전압: 12.6V / 충전시간: 3시간 / 사용시간: 80분 / 배터리: 리튬이온 / 셀프스탠딩 / 가구손상방지 / 무게: 2.5~3kg / 소비전력: 30W / 색상:레드 / 패드: 극세사 / 크기(가로x세로x깊이): 240x1190x240mm', 54730], ['다이슨 V7 트리거 프로', '핸디/스틱청소기 / 핸디형 / 무선형 / 전압: 21.6V / 흡입력: 100AW / 충전시간: 3시간30분 / 사용시간: 30분 / 배터리: 리튬이온 / 무게: 1.71kg / 소비전력: 350W / 브러쉬: 미니모터헤드, 미니소프트더스팅, 스토번디트, 크레비스툴, 매트리스툴, 익스텐션호스 / 크기(가로x세로x깊이): 131x206x39mm', 419900], ['보쉬 GAS10.8V-LI', '핸디/스틱청소기 / 핸디형 / 무선형 / 사용시간: 7분 / 색상:블루 / 크기(가로x세로x깊이): 273x170x77mm', 38880], ['쿠첸 CVC-LH602W', '핸디/스틱청소기 / 핸디형 / 무선형 / 전압: 7.2V / 헤파필터 / 충전시간: 3시간 / 사용시간: 15분 / 브러쉬: 솔형, 틈새 / 크기(가로x세로x깊이): 115x380x115mm', 33360], ['신일 롤링스턴 SDC-EQ900', '물걸레청소기 / 스틱형 / 물걸레전용 / 회전식 / 무선형 / 전압: 14.48V / 충전시간: 3시간 / 사용시간: 30분 / 배터리: 리튬이온 / LED라이트 / 무게: 3.1kg / 색상:화이트 / 패드: 극세사(벨크로형)  / 크기(가로x세로x깊이): 420x1250x190mm', 94420], ['레이캅 RPC-100', '핸디/스틱청소기 / 핸디+스틱형 / 무선형 / 전압: 25.2V / 헤파필터 / 4단계여과 / 인버터모터 / 충전시간: 3시간30분 / 사용시간: 40분 / 배터리: 리튬이온 / 브러쉬: 바닥, 솔형, 틈새, 연장관 / 거치대 / 프리볼트 / 무게: 2.9kg / 색상:화이트 / 소비전력: 400W / 크기(가로x세로x깊이): 105x267x319mm', 362700], ['엔뚜마노 이지투웍 EM-2800W', '물걸레청소기 / 스틱형 / 물걸레전용 / 회전식 / 무선형 / 충전시간: 3~4시간 / 사용시간: 30분 / 배터리: 리튬이온 / 각도조절 / 무게: 1.7kg', 35380], ['이노크아든 IA-I9V2', '핸디/스틱청소기 / 핸디+스틱형 / 무선형 / 전압: 22.2V / 헤파필터 / H14급 / 싸이클론 / 3단계여과 / 충전시간: 4~5시간 / 사용시간: 35분 / 배터리: 리튬이온 / 브러쉬: 바닥, 틈새, 연장관 / LED라이트 / 거치대 / 프리볼트 / 무게: 1.97kg / 색상:실버 / 소비전력: 130W / 크기(가로x세로x깊이): 245x1080x150mm', 96030], ['삼성전자 제트 VS20R9074S2', '핸디/스틱청소기 / 핸디+스틱형 / 무선형 / 전압: 21.9V / 헤파필터 / 싸이클론 / 5단계여과 / 인버터모터 / 흡입력: 200W / 먼지통용량: 0.5L / 충전시간: 3시간30분 / 사용시간: 120분 / 배터리: 리튬이온 (2개) / 브러쉬: 바닥, 솔형, 틈새, 침구, 연장관 / 거치대 / 디스플레이표시창 / 프리볼트 / 무게: 2.7kg / 색상:티탄+블루 / 소비전력: 550W / 알레르기인증(BAF) / 미세먼지인증(SLG) / 크기(가로x세로x깊이): 250x1136x215mm', 1036980], ['DIBEA V008', '핸디/스틱청소기 / 핸디+스틱형 / 무선형 / 전압: 22.2V / 싸이클론 / 충전시간: 4~5시간 / 사용시간: 45분 / 배터리: 리튬이온 / 브러쉬: 바닥, 솔형, 틈새, 연장관 / 배터리잔량표시 / 무게: 2.2kg / 색상:블루, 그레이 / 소비전력: 120W / 흡입력: 9000Pa', 85380], ['테팔 에어포스 360 TY9037', '핸디/스틱청소기 / 핸디+스틱형 / 무선형 / 전압: 21.9V / 싸이클론 / 충전시간: 3시간 / 사용시간: 12~30분 / 배터리: 리튬이온 / 브러쉬: 바닥, 솔형, 틈새 / LED라이트 / 배터리잔량표시 / 무게: 2.8kg / 색상:화이트+블루 / 크기(가로x세로x깊이): 154x742x345mm', 238990], ['LG전자 코드제로 S73OW', '핸디/스틱청소기 / 핸디+스틱형 / 무선형 / 충전시간: 4시간30분 / 사용시간: 70분 / 배터리: 리튬이온 (2개) / 브러쉬: 바닥, 솔형, 틈새 / LED라이트 / 배터리잔량표시 / 무게: 2.8kg / 색상:샤이니오렌지 / 소비전력: 80W / 크기(가로x세로x깊이): 270x1105x190mm', 228540], ['한샘 T1', '핸디/스틱청소기 / 핸디+스틱형 / 무선형 / 전압: 21.5V / 싸이클론 / 3단계여과 / BLDC모터 / 흡입력: 20000Pa / 먼지통용량: 0.6L / 충전시간: 4~5시간 / 사용시간: 35분 / 배터리: 리튬이온 / 용량: 2160mAh / 브러쉬: 바닥, 솔형, 틈새, 침구, 연장관 / LED라이트 / 거치대 / 무게: 2.5kg / 색상:레드 / 소비전력: 250W / 크기(가로x세로x깊이): 260x1040x220mm', 498240], ['루시아 LVC-2018', '핸디/스틱청소기 / 핸디+스틱형 / 유선형 / 브러쉬: 솔형, 틈새 / 색상:블랙+레드', 34400], ['블랙앤데커 PV1420C', '핸디/스틱청소기 / 핸디형 / 무선형 / 전압: 14.4V / 싸이클론 / 충전시간: 4시간 / 사용시간: 11분 / 배터리: 리튬이온 / 거치대 / 프리볼트 / 무게: 1.33kg / 색상:샴페인 / 피벗노즐 / 크기(가로x세로x깊이): 270x170x140mm', 74030], ['던디 TMS-5000', '핸디/스틱청소기 / 핸디+스틱형 / 무선형 / 사용시간: 20분 / 브러쉬: 바닥, 솔형, 틈새, 연장관 / LED라이트 / 무게: 2.3kg / 색상:레드, 그린 / 헤파필터 / 전압: 14.8V / 배터리용량: 2150mAh', 89100], ['보국전자 BKV-642VL', '핸디/스틱청소기 / 핸디형 / 무선형 / 충전시간: 6~8시간 / 사용시간: 15분 / 배터리: 니켈수소 / 브러쉬: 틈새 / 무게: 0.91Kg / 색상:블랙+오렌지', 33140], ['신일산업 SVC-P60DK', '핸디/스틱청소기 / 핸디+스틱형 / 무선형 / 전압: 18.5V / 헤파필터 / H13급 / 싸이클론 / BLDC모터 / 먼지통용량: 0.5L / 충전시간: 5시간 / 사용시간: 30분 / 배터리: 리튬이온 / LED라이트 / 거치대 / 배터리잔량표시 / 프리볼트 / 무게: 5kg / 색상:다크그레이 / 브러쉬: 바닥, 콤비네이션, 침구, 불어내기, 연장관 / 흡입력: 17000Pa / 크기(가로x세로x깊이): 295x739x127mm', 208990], ['블랙앤데커 WD7201', '핸디/스틱청소기 / 핸디형 / 무선형 / 충전시간: 10시간 / 사용시간: 8분 / 배터리: 리튬이온 / 브러쉬: 틈새 / 무게: 0.65kg / 색상:그린, 오렌지 / 습, 건식 /  전압: 7.5V', 37800], ['아토만 AT-770', '핸디/스틱청소기 / 핸디+스틱형 / 유선형 / 헤파필터 / 싸이클론 / 3단계여과 / 브러쉬: 바닥, 솔형, 틈새, 연장관 / 무게: 1.6kg / 색상:레드 / 소비전력: 600W / 크기(가로x세로x깊이): 290x1100x150mm', 39990], ['DIBEA P20 MAX', '핸디/스틱청소기 / 핸디+스틱형 / 무선형 / 전압: 22.2V / 헤파필터 / 싸이클론 / 3단계여과 / BLDC모터 / 먼지통용량: 0.5L / 충전시간: 4~5시간 / 배터리: 리튬이온 / 브러쉬: 바닥, 솔형, 틈새, 연장관 / LED라이트 / 거치대 / 무게: 2.5kg / 색상:화이트 / 소비전력: 160W / 흡입력: 17000Pa / 크기(가로x세로x깊이): 230x1050x120mm', 114230], ['DIBEA NEW F7', '핸디/스틱청소기 / 핸디+스틱형 / 무선형 / 전압: 22.2V / 헤파필터 / H13급 / 싸이클론 / 먼지통용량: 0.5L / 충전시간: 4~6시간 / 사용시간: 35분 / 배터리: 리튬이온 / 브러쉬: 바닥, 카펫, 틈새, 연장관 / 거치대 / 배터리잔량표시 / 무게: 2.11kg / 소비전력: 250W / 흡입력: 18000Pa', 0], ['신일산업 SVC-S8000MJ', '핸디/스틱청소기 / 핸디+스틱형 / 무선형 / 충전시간: 8시간 / 사용시간: 12분 / 무게: 1.49kg / 색상:블랙 / 크기(가로x세로x깊이): 100x140x420mm', 0], ['블랙앤데커 PHV1800CB', '핸디/스틱청소기 / 핸디형 / 무선형 / 색상:블루', 0], ['라헨느 V10 플러스', '핸디/스틱청소기 / 핸디+스틱형 / 무선형 / 전압: 22.2V / 헤파필터 / H13급 / 싸이클론 / 충전시간: 4시간 / 사용시간: 60분 / 배터리: 리튬이온 / 브러쉬: 바닥, 솔형, 틈새, 연장관 / 거치대 / 무게: 2.3kg / 색상:오렌지골드 / 소비전력: 150W / 흡입력: 8500Pa / 크기(가로x세로x깊이): 240x1065x260mm', 127520], ['일렉트로룩스 퓨어 F9 PF91-5EBF', '핸디/스틱청소기 / 스틱형 / 무선형 / 전압: 32.4V / 5단계여과 / 충전시간: 6시간 / 사용시간: 55분 / 배터리: 리튬이온 / LED라이트 / 거치대 / 배터리잔량표시 / 셀프스탠딩 / 무게: 4.1kg / 색상:인디고블루 / 알레르기인증(BAF) / 브러쉬: 침구, 3in1, 더스팅, 앵글튜브 / 플렉스리프트 / 바닥감지 / 크기(가로x세로x깊이): 215x1200x249mm', 387210], ['DIBEA Q10 플러스', '핸디/스틱청소기 / 핸디+스틱형 / 무선형 / 전압: 22.2V / 헤파필터 / 싸이클론 / 4단계여과 / 먼지통용량: 0.55L / 충전시간: 4~5시간 / 사용시간: 40분 / 배터리: 리튬이온 / 용량: 2150mAh / 브러쉬: 바닥, 솔형, 틈새, 침구, 연장관 / LED라이트 / 거치대 / 무게: 2.2kg / 색상:블루 / 소비전력: 150W / 크기(가로x세로x깊이): 240x1040x212mm', 216050]]\n"
     ]
    }
   ],
   "source": [
    "prod_data = []\n",
    "\n",
    "for prod_item in prod_items:\n",
    "    try: # ① 상품명 가져오기\n",
    "        title = prod_item.select('p.prod_name > a')[0].text.strip()\n",
    "    except:\n",
    "        title = ''\n",
    "    try: # ② 스펙 리스트 가져오기\n",
    "        spec_list = prod_item.select('div.spec_list')[0].text.strip()\n",
    "    except:\n",
    "        spec_list = ''\n",
    "    try: # ③ 가격 정보 가져오기 \n",
    "        price = int(prod_item.select('li.rank_one > p.price_sect > a > strong')[0].text.strip().replace(\",\",\"\"))\n",
    "    except:\n",
    "        price = 0\n",
    "    prod_data.append([title, spec_list, price])\n",
    "\n",
    "print(len(prod_data))\n",
    "print(prod_data)"
   ]
  },
  {
   "cell_type": "markdown",
   "metadata": {},
   "source": [
    "### 예제 5-10 상품 정보 태그에서 원하는 정보 추출 함수"
   ]
  },
  {
   "cell_type": "code",
   "execution_count": 26,
   "metadata": {},
   "outputs": [],
   "source": [
    "def get_prod_items(prod_items):\n",
    "    prod_data = []\n",
    "    for prod_item in prod_items:\n",
    "        # ① 상품명 가져오기\n",
    "        try:\n",
    "            title = prod_item.select('p.prod_name > a')[0].text.strip()\n",
    "        except:\n",
    "            title = ''\n",
    "        # ② 스펙 리스트 가져오기\n",
    "        try: \n",
    "            spec_list = prod_item.select('div.spec_list')[0].text.strip()\n",
    "        except:\n",
    "            spec_list = ''\n",
    "        # ③ 가격 정보 가져오기 \n",
    "        try: \n",
    "            price = int(prod_item.select('li.rank_one > p.price_sect > a > strong')[0].text.strip().replace(\",\",\"\"))\n",
    "        except:\n",
    "            price = 0\n",
    "        prod_data.append([title, spec_list, price])\n",
    "        \n",
    "    return prod_data"
   ]
  },
  {
   "cell_type": "markdown",
   "metadata": {},
   "source": [
    "### 예제 5-11 상품정보 가져오는 함수 호출 테스트"
   ]
  },
  {
   "cell_type": "code",
   "execution_count": 27,
   "metadata": {},
   "outputs": [
    {
     "name": "stdout",
     "output_type": "stream",
     "text": [
      "30\n"
     ]
    }
   ],
   "source": [
    "prod_items = soup.select('div#productListArea > div.main_prodlist > ul.product_list > li.prod_item')\n",
    "prod_data = get_prod_items(prod_items)\n",
    "print(len(prod_data))"
   ]
  },
  {
   "cell_type": "markdown",
   "metadata": {},
   "source": [
    "# 5.2. 데이터 수집하기 2 - 여러 페이지 다나와 검색 페이지 크롤링하기"
   ]
  },
  {
   "cell_type": "markdown",
   "metadata": {},
   "source": [
    "## 예제 5-12 다나와 검색 URL 만들어주는 함수"
   ]
  },
  {
   "cell_type": "code",
   "execution_count": 28,
   "metadata": {},
   "outputs": [
    {
     "name": "stdout",
     "output_type": "stream",
     "text": [
      "http://search.danawa.com/dsearch.php?query=무선청소기&volumeType=allvs&page=1&limit=30&sort=saveDESC&list=list&boost=true&addDelivery=N&tab=goods&tab=goods\n"
     ]
    }
   ],
   "source": [
    "def get_search_page_url(keyword, page):\n",
    "    return 'http://search.danawa.com/dsearch.php?query={}&volumeType=allvs&page={}&limit=30&sort=saveDESC&list=list&boost=true&addDelivery=N&tab=goods&tab=goods'.format(keyword, page)\n",
    "\n",
    "keyword = '무선청소기'\n",
    "page = 1\n",
    "url = get_search_page_url(keyword, page)\n",
    "print(url)"
   ]
  },
  {
   "cell_type": "markdown",
   "metadata": {},
   "source": [
    "## 예제 5-13 tqdm 설치 방법"
   ]
  },
  {
   "cell_type": "code",
   "execution_count": 19,
   "metadata": {},
   "outputs": [
    {
     "name": "stdout",
     "output_type": "stream",
     "text": [
      "Requirement already satisfied: tqdm in /Users/hyungsoklee/Develops/anaconda3/lib/python3.7/site-packages (4.32.1)\r\n"
     ]
    }
   ],
   "source": [
    "!pip install tqdm"
   ]
  },
  {
   "cell_type": "markdown",
   "metadata": {},
   "source": [
    "## 예제 5-14 tqdm 사용법"
   ]
  },
  {
   "cell_type": "code",
   "execution_count": 20,
   "metadata": {},
   "outputs": [
    {
     "data": {
      "application/vnd.jupyter.widget-view+json": {
       "model_id": "3f61aefbc14a48c3beae0acdfe9d1f0f",
       "version_major": 2,
       "version_minor": 0
      },
      "text/plain": [
       "HBox(children=(IntProgress(value=0, max=10), HTML(value='')))"
      ]
     },
     "metadata": {},
     "output_type": "display_data"
    },
    {
     "name": "stdout",
     "output_type": "stream",
     "text": [
      "\n"
     ]
    }
   ],
   "source": [
    "import time\n",
    "from tqdm import tqdm_notebook\n",
    "\n",
    "total_page = 10\n",
    "for page in tqdm_notebook(range(1, total_page + 1)):\n",
    "    time.sleep(5)"
   ]
  },
  {
   "cell_type": "markdown",
   "metadata": {},
   "source": [
    "## 예제 5-15 실전 다나와 크롤링 해보기"
   ]
  },
  {
   "cell_type": "code",
   "execution_count": 29,
   "metadata": {},
   "outputs": [
    {
     "data": {
      "application/vnd.jupyter.widget-view+json": {
       "model_id": "61f23aed4eb447c6a8bd178e8b29a3d8",
       "version_major": 2,
       "version_minor": 0
      },
      "text/plain": [
       "HBox(children=(IntProgress(value=0, max=10), HTML(value='')))"
      ]
     },
     "metadata": {},
     "output_type": "display_data"
    },
    {
     "name": "stdout",
     "output_type": "stream",
     "text": [
      "\n"
     ]
    }
   ],
   "source": [
    "from selenium import webdriver\n",
    "import time\n",
    "from bs4 import BeautifulSoup\n",
    "from tqdm import tqdm_notebook\n",
    "\n",
    "browser = webdriver.Chrome('c:/playwithdata/chromedriver.exe')\n",
    "# 암묵적으로 웹 자원 로드를 위해 3초까지 기다려 준다.\n",
    "browser.implicitly_wait(3)\n",
    "\n",
    "keyword = '무선청소기'\n",
    "total_page = 10\n",
    "prod_data_total = []\n",
    "\n",
    "# 진행정도를 잘표현해주는 tqdm을 적용 \n",
    "for page in tqdm_notebook(range(1, total_page + 1)):\n",
    "    # ① 검색 페이지 이동하기\n",
    "    url = get_search_page_url(keyword, page)\n",
    "    browser.get(url)\n",
    "    # 페이지가 로딩완료되기 위한 시간을 5초를 준다. \n",
    "    time.sleep(5)\n",
    "    \n",
    "    # ② 현재 페이지 html 정보 가져오기\n",
    "    html = browser.page_source\n",
    "    soup = BeautifulSoup(html, 'html.parser')\n",
    "    \n",
    "    # ③ 상품 정보 추출하기 \n",
    "    prod_items = soup.select('div#productListArea > div.main_prodlist > ul.product_list > li.prod_item')\n",
    "    prod_item_list = get_prod_items(prod_items)\n",
    "\n",
    "    # ④ 추출 데이터 저장하기\n",
    "    prod_data_total = prod_data_total + prod_item_list"
   ]
  },
  {
   "cell_type": "code",
   "execution_count": 30,
   "metadata": {},
   "outputs": [
    {
     "name": "stdout",
     "output_type": "stream",
     "text": [
      "300\n"
     ]
    }
   ],
   "source": [
    "print(len(prod_data_total))"
   ]
  },
  {
   "cell_type": "markdown",
   "metadata": {},
   "source": [
    "## 예제 5-16 데이터 저장하기"
   ]
  },
  {
   "cell_type": "code",
   "execution_count": 31,
   "metadata": {},
   "outputs": [],
   "source": [
    "import pandas as pd\n",
    "data = pd.DataFrame(prod_data_total)\n",
    "data.columns = ['상품명', '스펙 리스트', '가격']\n",
    "data.to_excel('./files/3_1_danawa_crawling_result.xlsx', index=False)"
   ]
  },
  {
   "cell_type": "code",
   "execution_count": null,
   "metadata": {},
   "outputs": [],
   "source": []
  }
 ],
 "metadata": {
  "kernelspec": {
   "display_name": "Python 3",
   "language": "python",
   "name": "python3"
  },
  "language_info": {
   "codemirror_mode": {
    "name": "ipython",
    "version": 3
   },
   "file_extension": ".py",
   "mimetype": "text/x-python",
   "name": "python",
   "nbconvert_exporter": "python",
   "pygments_lexer": "ipython3",
   "version": "3.7.3"
  }
 },
 "nbformat": 4,
 "nbformat_minor": 2
}
