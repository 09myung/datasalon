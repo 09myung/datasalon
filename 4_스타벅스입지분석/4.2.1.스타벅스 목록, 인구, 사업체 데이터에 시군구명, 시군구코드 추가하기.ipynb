{
 "cells": [
  {
   "cell_type": "code",
   "execution_count": null,
   "metadata": {},
   "outputs": [],
   "source": [
    "# 예제 5-39\n",
    "import pandas as pd\n",
    "seoul_starbucks = pd.read_excel('./files/4_1_seoul_starbucks_list.xlsx', header=0)\n",
    "seoul_starbucks.head()"
   ]
  },
  {
   "cell_type": "code",
   "execution_count": null,
   "metadata": {},
   "outputs": [],
   "source": [
    "# 예제 5-40\n",
    "sgg_names = []\n",
    "for address in seoul_starbucks['주소']:\n",
    "    sgg = address.split()[1]\n",
    "    sgg_names.append(sgg)\n",
    "seoul_starbucks['시군구명'] = sgg_names\n",
    "seoul_starbucks.head()"
   ]
  },
  {
   "cell_type": "code",
   "execution_count": null,
   "metadata": {},
   "outputs": [],
   "source": [
    "# 예제 5-41\n",
    "seoul_starbucks.to_excel('./files/4_4_seoul_starbucks_list.xlsx', index=False)"
   ]
  }
 ],
 "metadata": {
  "kernelspec": {
   "display_name": "Python 3",
   "language": "python",
   "name": "python3"
  },
  "language_info": {
   "codemirror_mode": {
    "name": "ipython",
    "version": 3
   },
   "file_extension": ".py",
   "mimetype": "text/x-python",
   "name": "python",
   "nbconvert_exporter": "python",
   "pygments_lexer": "ipython3",
   "version": "3.7.3"
  }
 },
 "nbformat": 4,
 "nbformat_minor": 2
}
