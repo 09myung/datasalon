{
 "cells": [
  {
   "cell_type": "code",
   "execution_count": null,
   "metadata": {},
   "outputs": [],
   "source": [
    "# 예제 5-13\n",
    "import requests\n",
    "import pandas as pd"
   ]
  },
  {
   "cell_type": "code",
   "execution_count": null,
   "metadata": {},
   "outputs": [],
   "source": [
    "# 예제 5-14\n",
    "SEOUL_API_AUTH_KEY = '734*******************'"
   ]
  },
  {
   "cell_type": "code",
   "execution_count": null,
   "metadata": {},
   "outputs": [],
   "source": [
    "# 예제 5-15\n",
    "url = 'http://openapi.seoul.go.kr:8088/{}/json/SdeTlSccoSigW/1/25'.format(SEOUL_API_AUTH_KEY)\n",
    "print(url)"
   ]
  },
  {
   "cell_type": "code",
   "execution_count": null,
   "metadata": {},
   "outputs": [],
   "source": [
    "# 예제 5-16\n",
    "result_dict = requests.get(url).json()\n",
    "result_dict"
   ]
  },
  {
   "cell_type": "code",
   "execution_count": null,
   "metadata": {},
   "outputs": [],
   "source": [
    "# 예제 5-17\n",
    "result_data = result_dict['SdeTlSccoSigW']\n",
    "\n",
    "print(result_data['list_total_count'])\n",
    "print(result_data['RESULT'])\n",
    "print(result_data['row'][0])"
   ]
  },
  {
   "cell_type": "code",
   "execution_count": null,
   "metadata": {},
   "outputs": [],
   "source": [
    "# 예제 5-18\n",
    "data_list = result_data['row']\n",
    "sample_df = pd.DataFrame(data_list)\n",
    "sample_df.head()"
   ]
  },
  {
   "cell_type": "code",
   "execution_count": null,
   "metadata": {},
   "outputs": [],
   "source": [
    "# 예제 5-19\n",
    "# 서울열린데이터광장 API 호출 키\n",
    "SEOUL_API_AUTH_KEY = '734*************************'\n",
    "# 서울열린데이터광장 OPEN API호출 공통 함수\n",
    "def seoul_open_api_data(url, service):\n",
    "    data_list = None\n",
    "    try:\n",
    "        result_dict = requests.get(url).json()\n",
    "        result_data = result_dict[service]\n",
    "        code = result_data['RESULT']['CODE']\n",
    "        if code == 'INFO-000':\n",
    "            data_list = result_data['row']\n",
    "    except:\n",
    "        pass\n",
    "    return data_list"
   ]
  },
  {
   "cell_type": "code",
   "execution_count": null,
   "metadata": {},
   "outputs": [],
   "source": [
    "# 예제 5-20\n",
    "sgg_url = 'http://openapi.seoul.go.kr:8088/{}/json/SdeTlSccoSigW/1/25'.format(SEOUL_API_AUTH_KEY)\n",
    "sgg_data_list = seoul_open_api_data(url, 'SdeTlSccoSigW')\n",
    "sgg_data_list[0]"
   ]
  },
  {
   "cell_type": "code",
   "execution_count": null,
   "metadata": {},
   "outputs": [],
   "source": [
    "# 예제 5-21\n",
    "columns = ['SIG_CD','SIG_KOR_NM','LAT','LNG']\n",
    "sgg_df = pd.DataFrame(data=sgg_data_list, columns=columns)\n",
    "sgg_df.head()"
   ]
  },
  {
   "cell_type": "code",
   "execution_count": null,
   "metadata": {},
   "outputs": [],
   "source": [
    "# 예제 5-22\n",
    "sgg_df.columns = ['시군구코드','시군구명','위도','경도']\n",
    "sgg_df.head()"
   ]
  },
  {
   "cell_type": "code",
   "execution_count": null,
   "metadata": {},
   "outputs": [],
   "source": [
    "# 예제 5-23\n",
    "sgg_df.info()"
   ]
  },
  {
   "cell_type": "code",
   "execution_count": null,
   "metadata": {},
   "outputs": [],
   "source": [
    "# 예제 5-24\n",
    "sgg_df.to_excel('./files/4_2_seoul_sgg_list.xlsx', index=False)"
   ]
  },
  {
   "cell_type": "code",
   "execution_count": null,
   "metadata": {},
   "outputs": [],
   "source": [
    "# 예제 5-25\n",
    "pop_url = 'http://openapi.seoul.go.kr:8088/{}/json/octastatapi419/1/26/'.format(SEOUL_API_AUTH_KEY)\n",
    "pop_data_list = seoul_open_api_data(pop_url, 'octastatapi419')\n",
    "\n",
    "sgg_pop_df = pd.DataFrame(data=pop_data_list)"
   ]
  },
  {
   "cell_type": "code",
   "execution_count": null,
   "metadata": {},
   "outputs": [],
   "source": [
    "# 예제 5-26\n",
    "sgg_pop_df.head()"
   ]
  },
  {
   "cell_type": "code",
   "execution_count": null,
   "metadata": {},
   "outputs": [],
   "source": [
    "# 예제 5-27\n",
    "sgg_pop_df.info()"
   ]
  },
  {
   "cell_type": "code",
   "execution_count": null,
   "metadata": {},
   "outputs": [],
   "source": [
    "# 예제 5-28\n",
    "condition = sgg_pop_df['JACHIGU'] != '합계'\n",
    "sgg_pop_df_selected = sgg_pop_df[condition]\n",
    "sgg_pop_df_selected.head()"
   ]
  },
  {
   "cell_type": "code",
   "execution_count": null,
   "metadata": {},
   "outputs": [],
   "source": [
    "# 예제 5-29\n",
    "sgg_pop_df_selected.info()"
   ]
  },
  {
   "cell_type": "code",
   "execution_count": null,
   "metadata": {},
   "outputs": [],
   "source": [
    "# 예제 5-30\n",
    "columns = ['JACHIGU', 'GYE_1']\n",
    "sgg_pop_df_final = sgg_pop_df_selected[columns]"
   ]
  },
  {
   "cell_type": "code",
   "execution_count": null,
   "metadata": {},
   "outputs": [],
   "source": [
    "# 예제 5-31\n",
    "sgg_pop_df_final.head()"
   ]
  },
  {
   "cell_type": "code",
   "execution_count": null,
   "metadata": {},
   "outputs": [],
   "source": [
    "# 예제 5-32\n",
    "sgg_pop_df_final.columns = ['시군구명', '주민등록인구']\n",
    "sgg_pop_df_final.head()"
   ]
  },
  {
   "cell_type": "code",
   "execution_count": null,
   "metadata": {},
   "outputs": [],
   "source": [
    "# 예제 5-33\n",
    "sgg_pop_df_final.to_excel('./files/4_3_sgg_pop.xlsx', index=False)"
   ]
  },
  {
   "cell_type": "code",
   "execution_count": null,
   "metadata": {},
   "outputs": [],
   "source": [
    "# 예제 5-34\n",
    "biz_url = 'http://openapi.seoul.go.kr:8088/{}/json/octastatapi104/1/450/'.format(SEOUL_API_AUTH_KEY)\n",
    "biz_data_list = seoul_open_api_data(biz_url, 'octastatapi104')\n",
    "\n",
    "sgg_biz_df = pd.DataFrame(biz_data_list)\n",
    "sgg_biz_df.head(10)"
   ]
  },
  {
   "cell_type": "code",
   "execution_count": null,
   "metadata": {},
   "outputs": [],
   "source": [
    "# 예제 5-35\n",
    "condition = sgg_biz_df['DONG'] == '소계'\n",
    "sgg_biz_df_selected = sgg_biz_df[condition]\n",
    "sgg_biz_df_selected.head(10)"
   ]
  },
  {
   "cell_type": "code",
   "execution_count": null,
   "metadata": {},
   "outputs": [],
   "source": [
    "# 예제 5-36\n",
    "columns = ['JACHIGU', 'GYE', 'SAEOPCHESU_1']\n",
    "sgg_biz_df_final = sgg_biz_df_selected [columns]\n",
    "sgg_biz_df_final.columns = ['시군구명', '종사자수','사업체수']\n",
    "sgg_biz_df_final.head()"
   ]
  },
  {
   "cell_type": "code",
   "execution_count": null,
   "metadata": {},
   "outputs": [],
   "source": [
    "# 예제 5-37\n",
    "sgg_biz_df_final = sgg_biz_df_final.reset_index(drop=True)\n",
    "sgg_biz_df_final.head()"
   ]
  },
  {
   "cell_type": "code",
   "execution_count": null,
   "metadata": {},
   "outputs": [],
   "source": [
    "# 예제 5-38\n",
    "sgg_biz_df_final.to_excel('./files/4_3_sgg_biz.xlsx', index=False)"
   ]
  }
 ],
 "metadata": {
  "kernelspec": {
   "display_name": "Python 3",
   "language": "python",
   "name": "python3"
  },
  "language_info": {
   "codemirror_mode": {
    "name": "ipython",
    "version": 3
   },
   "file_extension": ".py",
   "mimetype": "text/x-python",
   "name": "python",
   "nbconvert_exporter": "python",
   "pygments_lexer": "ipython3",
   "version": "3.7.3"
  }
 },
 "nbformat": 4,
 "nbformat_minor": 2
}
